{
 "cells": [
  {
   "cell_type": "code",
   "execution_count": 1,
   "id": "dffcf29a-14d9-4c6f-80c0-eec2f36f08ac",
   "metadata": {},
   "outputs": [],
   "source": [
    "import pyspark"
   ]
  },
  {
   "cell_type": "code",
   "execution_count": 2,
   "id": "4b147717-6740-4c1a-896a-0af292e66267",
   "metadata": {},
   "outputs": [],
   "source": [
    "from pyspark.sql import SparkSession"
   ]
  },
  {
   "cell_type": "code",
   "execution_count": 12,
   "id": "05110e57-59e2-4fde-b072-d8f2faa1a325",
   "metadata": {},
   "outputs": [],
   "source": [
    "from pyspark.sql import types"
   ]
  },
  {
   "cell_type": "code",
   "execution_count": 3,
   "id": "17454092-ea11-4b5c-8ea7-78681b44cf38",
   "metadata": {},
   "outputs": [
    {
     "name": "stderr",
     "output_type": "stream",
     "text": [
      "Setting default log level to \"WARN\".\n",
      "To adjust logging level use sc.setLogLevel(newLevel). For SparkR, use setLogLevel(newLevel).\n",
      "24/02/26 10:22:32 WARN NativeCodeLoader: Unable to load native-hadoop library for your platform... using builtin-java classes where applicable\n",
      "24/02/26 10:22:33 WARN Utils: Service 'SparkUI' could not bind on port 4040. Attempting port 4041.\n"
     ]
    }
   ],
   "source": [
    "spark=SparkSession.builder\\\n",
    "    .master(\"local[*]\")\\\n",
    "    .appName('test')\\\n",
    "    .getOrCreate()"
   ]
  },
  {
   "cell_type": "code",
   "execution_count": 4,
   "id": "74f63177-30b8-4108-9ef5-7ad0004dfb53",
   "metadata": {},
   "outputs": [],
   "source": [
    "df_green=spark.read\\\n",
    "    .option(\"header\",\"true\")\\\n",
    "    .csv('data/raw/green/2021/01/')"
   ]
  },
  {
   "cell_type": "code",
   "execution_count": 6,
   "id": "c0418746-e144-402d-94fd-5439afd8c335",
   "metadata": {},
   "outputs": [],
   "source": [
    "import pandas as pd"
   ]
  },
  {
   "cell_type": "code",
   "execution_count": 7,
   "id": "89f5b4a9-555a-4f12-8997-cb4c1f3a8110",
   "metadata": {},
   "outputs": [],
   "source": [
    "df_green_pd=pd.read_csv('data/raw/green/2021/01/green_tripdata_2021-01.csv.gz', nrows=1000)"
   ]
  },
  {
   "cell_type": "code",
   "execution_count": 11,
   "id": "165ad6cd-54e0-4c89-a37d-e94151668f9a",
   "metadata": {},
   "outputs": [
    {
     "data": {
      "text/plain": [
       "StructType([StructField('VendorID', LongType(), True), StructField('lpep_pickup_datetime', StringType(), True), StructField('lpep_dropoff_datetime', StringType(), True), StructField('store_and_fwd_flag', StringType(), True), StructField('RatecodeID', LongType(), True), StructField('PULocationID', LongType(), True), StructField('DOLocationID', LongType(), True), StructField('passenger_count', LongType(), True), StructField('trip_distance', DoubleType(), True), StructField('fare_amount', DoubleType(), True), StructField('extra', DoubleType(), True), StructField('mta_tax', DoubleType(), True), StructField('tip_amount', DoubleType(), True), StructField('tolls_amount', DoubleType(), True), StructField('ehail_fee', DoubleType(), True), StructField('improvement_surcharge', DoubleType(), True), StructField('total_amount', DoubleType(), True), StructField('payment_type', LongType(), True), StructField('trip_type', LongType(), True), StructField('congestion_surcharge', DoubleType(), True)])"
      ]
     },
     "execution_count": 11,
     "metadata": {},
     "output_type": "execute_result"
    }
   ],
   "source": [
    "spark.createDataFrame(df_green_pd).schema"
   ]
  },
  {
   "cell_type": "code",
   "execution_count": 10,
   "id": "cec9fe47-3c2d-43d3-9960-a559657ac613",
   "metadata": {},
   "outputs": [
    {
     "data": {
      "text/plain": [
       "DataFrame[VendorID: bigint, lpep_pickup_datetime: string, lpep_dropoff_datetime: string, store_and_fwd_flag: string, RatecodeID: bigint, PULocationID: bigint, DOLocationID: bigint, passenger_count: bigint, trip_distance: double, fare_amount: double, extra: double, mta_tax: double, tip_amount: double, tolls_amount: double, ehail_fee: double, improvement_surcharge: double, total_amount: double, payment_type: bigint, trip_type: bigint, congestion_surcharge: double]"
      ]
     },
     "execution_count": 10,
     "metadata": {},
     "output_type": "execute_result"
    }
   ],
   "source": [
    "df_green_schema"
   ]
  },
  {
   "cell_type": "code",
   "execution_count": 16,
   "id": "92cfff94-075b-495a-b4da-c1fba262441d",
   "metadata": {},
   "outputs": [
    {
     "data": {
      "text/plain": [
       "StructType([StructField('hvfhs_license_num', StringType(), True), StructField('dispatching_base_num', StringType(), True), StructField('pickup_datetime', StringType(), True), StructField('dropoff_datetime', StringType(), True), StructField('PULocationID', LongType(), True), StructField('DOLocationID', LongType(), True), StructField('SR_Flag', DoubleType(), True)])"
      ]
     },
     "execution_count": 16,
     "metadata": {},
     "output_type": "execute_result"
    }
   ],
   "source": [
    "spark.createDataFrame(df_pandas).schema"
   ]
  },
  {
   "cell_type": "code",
   "execution_count": 16,
   "id": "5075e7bb-47fe-480d-9323-01cde0e49520",
   "metadata": {},
   "outputs": [],
   "source": [
    "green_schema=types.StructType([\n",
    "\ttypes.StructField('VendorID', types.IntegerType(), True),\n",
    "\ttypes.StructField('lpep_pickup_datetime', types.TimestampType(), True),\n",
    "\ttypes.StructField('lpep_dropoff_datetime', types.TimestampType(), True),\n",
    "\ttypes.StructField('store_and_fwd_flag', types.StringType(), True),\n",
    "\ttypes.StructField('RatecodeID', types.IntegerType(), True),\n",
    "\ttypes.StructField('PULocationID', types.IntegerType(), True),\n",
    "\ttypes.StructField('DOLocationID', types.IntegerType(), True),\n",
    "\ttypes.StructField('passenger_count', types.IntegerType(), True),\n",
    "\ttypes.StructField('trip_distance', types.DoubleType(), True),\n",
    "\ttypes.StructField('fare_amount', types.DoubleType(), True),\n",
    "\ttypes.StructField('extra', types.DoubleType(), True),\n",
    "\ttypes.StructField('mta_tax', types.DoubleType(), True),\n",
    "\ttypes.StructField('tip_amount', types.DoubleType(), True),\n",
    "\ttypes.StructField('tolls_amount', types.DoubleType(), True),\n",
    "\ttypes.StructField('ehail_fee', types.DoubleType(), True),\n",
    "\ttypes.StructField('improvement_surcharge', types.DoubleType(), True),\n",
    "\ttypes.StructField('total_amount', types.DoubleType(), True),\n",
    "\ttypes.StructField('payment_type', types.IntegerType(), True),\n",
    "\ttypes.StructField('trip_type', types.IntegerType(), True),\n",
    "\ttypes.StructField('congestion_surcharge', types.DoubleType(), True)\n",
    " ])"
   ]
  },
  {
   "cell_type": "code",
   "execution_count": 17,
   "id": "5af5b52d-a896-4497-a57e-cbab0a70ce6d",
   "metadata": {},
   "outputs": [],
   "source": [
    "df_green=spark.read\\\n",
    "    .option(\"header\",\"true\")\\\n",
    "    .schema(green_schema) \\\n",
    "    .csv('data/raw/green/2021/01/')"
   ]
  },
  {
   "cell_type": "code",
   "execution_count": 18,
   "id": "074d62b1-1bf1-45c1-9a9f-6d05c7a16b16",
   "metadata": {},
   "outputs": [
    {
     "name": "stdout",
     "output_type": "stream",
     "text": [
      "root\n",
      " |-- VendorID: integer (nullable = true)\n",
      " |-- lpep_pickup_datetime: timestamp (nullable = true)\n",
      " |-- lpep_dropoff_datetime: timestamp (nullable = true)\n",
      " |-- store_and_fwd_flag: string (nullable = true)\n",
      " |-- RatecodeID: integer (nullable = true)\n",
      " |-- PULocationID: integer (nullable = true)\n",
      " |-- DOLocationID: integer (nullable = true)\n",
      " |-- passenger_count: integer (nullable = true)\n",
      " |-- trip_distance: double (nullable = true)\n",
      " |-- fare_amount: double (nullable = true)\n",
      " |-- extra: double (nullable = true)\n",
      " |-- mta_tax: double (nullable = true)\n",
      " |-- tip_amount: double (nullable = true)\n",
      " |-- tolls_amount: double (nullable = true)\n",
      " |-- ehail_fee: double (nullable = true)\n",
      " |-- improvement_surcharge: double (nullable = true)\n",
      " |-- total_amount: double (nullable = true)\n",
      " |-- payment_type: integer (nullable = true)\n",
      " |-- trip_type: integer (nullable = true)\n",
      " |-- congestion_surcharge: double (nullable = true)\n",
      "\n"
     ]
    }
   ],
   "source": [
    "df_green.printSchema()"
   ]
  },
  {
   "cell_type": "code",
   "execution_count": 19,
   "id": "64120582-49e7-46eb-8f3e-5202fa6c25d0",
   "metadata": {},
   "outputs": [],
   "source": [
    "df_yellow=spark.read\\\n",
    "    .option(\"header\",\"true\")\\\n",
    "    .csv('data/raw/yellow/2021/01/')"
   ]
  },
  {
   "cell_type": "code",
   "execution_count": 22,
   "id": "281149d9-1d84-4e70-b481-d01f66840df0",
   "metadata": {},
   "outputs": [],
   "source": [
    "df_yellow_pd=pd.read_csv('data/raw/yellow/2021/01/yellow_tripdata_2021-01.csv.gz', nrows=1000)"
   ]
  },
  {
   "cell_type": "code",
   "execution_count": 24,
   "id": "f057c541-b4b0-4863-8e6d-8ce7f547df11",
   "metadata": {},
   "outputs": [
    {
     "data": {
      "text/plain": [
       "StructType([StructField('VendorID', LongType(), True), StructField('tpep_pickup_datetime', StringType(), True), StructField('tpep_dropoff_datetime', StringType(), True), StructField('passenger_count', LongType(), True), StructField('trip_distance', DoubleType(), True), StructField('RatecodeID', LongType(), True), StructField('store_and_fwd_flag', StringType(), True), StructField('PULocationID', LongType(), True), StructField('DOLocationID', LongType(), True), StructField('payment_type', LongType(), True), StructField('fare_amount', DoubleType(), True), StructField('extra', DoubleType(), True), StructField('mta_tax', DoubleType(), True), StructField('tip_amount', DoubleType(), True), StructField('tolls_amount', DoubleType(), True), StructField('improvement_surcharge', DoubleType(), True), StructField('total_amount', DoubleType(), True), StructField('congestion_surcharge', DoubleType(), True)])"
      ]
     },
     "execution_count": 24,
     "metadata": {},
     "output_type": "execute_result"
    }
   ],
   "source": [
    "spark.createDataFrame(df_yellow_pd).schema"
   ]
  },
  {
   "cell_type": "code",
   "execution_count": 25,
   "id": "7138558d-a067-4c39-a6f7-b1bc9beaf0cf",
   "metadata": {},
   "outputs": [],
   "source": [
    "yellow_schema=types.StructType([\n",
    "\ttypes.StructField('VendorID', types.IntegerType(), True), \n",
    "\ttypes.StructField('tpep_pickup_datetime', types.TimestampType(), True), \n",
    "\ttypes.StructField('tpep_dropoff_datetime', types.TimestampType(), True), \n",
    "\ttypes.StructField('passenger_count', types.IntegerType(), True), \n",
    "\ttypes.StructField('trip_distance', types.DoubleType(), True), \n",
    "\ttypes.StructField('RatecodeID', types.IntegerType(), True), \n",
    "\ttypes.StructField('store_and_fwd_flag', types.StringType(), True), \n",
    "\ttypes.StructField('PULocationID', types.IntegerType(), True), \n",
    "\ttypes.StructField('DOLocationID', types.IntegerType(), True), \n",
    "\ttypes.StructField('payment_type', types.IntegerType(), True), \n",
    "\ttypes.StructField('fare_amount', types.DoubleType(), True), \n",
    "\ttypes.StructField('extra', types.DoubleType(), True), \n",
    "\ttypes.StructField('mta_tax', types.DoubleType(), True), \n",
    "\ttypes.StructField('tip_amount', types.DoubleType(), True), \n",
    "\ttypes.StructField('tolls_amount', types.DoubleType(), True), \n",
    "\ttypes.StructField('improvement_surcharge', types.DoubleType(), True), \n",
    "\ttypes.StructField('total_amount', types.DoubleType(), True), \n",
    "\ttypes.StructField('congestion_surcharge', types.DoubleType(), True)\n",
    "\t])"
   ]
  },
  {
   "cell_type": "code",
   "execution_count": 26,
   "id": "2e7dcc62-9215-4817-b738-652dd9245418",
   "metadata": {},
   "outputs": [],
   "source": [
    "df_yellow=spark.read\\\n",
    "    .option(\"header\",\"true\")\\\n",
    "    .schema(yellow_schema) \\\n",
    "    .csv('data/raw/yellow/2021/01/')"
   ]
  },
  {
   "cell_type": "code",
   "execution_count": 27,
   "id": "4824f564-80b4-4920-94e5-904068d1c7a4",
   "metadata": {},
   "outputs": [
    {
     "name": "stdout",
     "output_type": "stream",
     "text": [
      "root\n",
      " |-- VendorID: integer (nullable = true)\n",
      " |-- tpep_pickup_datetime: timestamp (nullable = true)\n",
      " |-- tpep_dropoff_datetime: timestamp (nullable = true)\n",
      " |-- passenger_count: integer (nullable = true)\n",
      " |-- trip_distance: double (nullable = true)\n",
      " |-- RatecodeID: integer (nullable = true)\n",
      " |-- store_and_fwd_flag: string (nullable = true)\n",
      " |-- PULocationID: integer (nullable = true)\n",
      " |-- DOLocationID: integer (nullable = true)\n",
      " |-- payment_type: integer (nullable = true)\n",
      " |-- fare_amount: double (nullable = true)\n",
      " |-- extra: double (nullable = true)\n",
      " |-- mta_tax: double (nullable = true)\n",
      " |-- tip_amount: double (nullable = true)\n",
      " |-- tolls_amount: double (nullable = true)\n",
      " |-- improvement_surcharge: double (nullable = true)\n",
      " |-- total_amount: double (nullable = true)\n",
      " |-- congestion_surcharge: double (nullable = true)\n",
      "\n"
     ]
    }
   ],
   "source": [
    "df_yellow.printSchema()"
   ]
  },
  {
   "cell_type": "code",
   "execution_count": 29,
   "id": "606dcfd8-7a31-4c87-8dc0-6d5fa9d036ff",
   "metadata": {},
   "outputs": [
    {
     "name": "stdout",
     "output_type": "stream",
     "text": [
      "Processing data for 2020/1\n"
     ]
    },
    {
     "name": "stderr",
     "output_type": "stream",
     "text": [
      "                                                                                \r"
     ]
    },
    {
     "name": "stdout",
     "output_type": "stream",
     "text": [
      "Processing data for 2020/2\n"
     ]
    },
    {
     "name": "stderr",
     "output_type": "stream",
     "text": [
      "                                                                                \r"
     ]
    },
    {
     "name": "stdout",
     "output_type": "stream",
     "text": [
      "Processing data for 2020/3\n"
     ]
    },
    {
     "name": "stderr",
     "output_type": "stream",
     "text": [
      "                                                                                \r"
     ]
    },
    {
     "name": "stdout",
     "output_type": "stream",
     "text": [
      "Processing data for 2020/4\n"
     ]
    },
    {
     "name": "stderr",
     "output_type": "stream",
     "text": [
      "                                                                                \r"
     ]
    },
    {
     "name": "stdout",
     "output_type": "stream",
     "text": [
      "Processing data for 2020/5\n"
     ]
    },
    {
     "name": "stderr",
     "output_type": "stream",
     "text": [
      "                                                                                \r"
     ]
    },
    {
     "name": "stdout",
     "output_type": "stream",
     "text": [
      "Processing data for 2020/6\n"
     ]
    },
    {
     "name": "stderr",
     "output_type": "stream",
     "text": [
      "                                                                                \r"
     ]
    },
    {
     "name": "stdout",
     "output_type": "stream",
     "text": [
      "Processing data for 2020/7\n"
     ]
    },
    {
     "name": "stderr",
     "output_type": "stream",
     "text": [
      "                                                                                \r"
     ]
    },
    {
     "name": "stdout",
     "output_type": "stream",
     "text": [
      "Processing data for 2020/8\n"
     ]
    },
    {
     "name": "stderr",
     "output_type": "stream",
     "text": [
      "                                                                                \r"
     ]
    },
    {
     "name": "stdout",
     "output_type": "stream",
     "text": [
      "Processing data for 2020/9\n"
     ]
    },
    {
     "name": "stderr",
     "output_type": "stream",
     "text": [
      "                                                                                \r"
     ]
    },
    {
     "name": "stdout",
     "output_type": "stream",
     "text": [
      "Processing data for 2020/10\n"
     ]
    },
    {
     "name": "stderr",
     "output_type": "stream",
     "text": [
      "                                                                                \r"
     ]
    },
    {
     "name": "stdout",
     "output_type": "stream",
     "text": [
      "Processing data for 2020/11\n"
     ]
    },
    {
     "name": "stderr",
     "output_type": "stream",
     "text": [
      "                                                                                \r"
     ]
    },
    {
     "name": "stdout",
     "output_type": "stream",
     "text": [
      "Processing data for 2020/12\n"
     ]
    },
    {
     "name": "stderr",
     "output_type": "stream",
     "text": [
      "                                                                                \r"
     ]
    }
   ],
   "source": [
    "year=2020\n",
    "for month in range(1,13):\n",
    "    print(f'Processing data for {year}/{month}')\n",
    "    input_path=f'data/raw/yellow/{year}/{month:02d}/'\n",
    "    output_path=f'data/pq/yellow/{year}/{month:02d}/'\n",
    "    \n",
    "    df_yellow=spark.read\\\n",
    "    .option(\"header\",\"true\")\\\n",
    "    .schema(yellow_schema) \\\n",
    "    .csv(input_path)\n",
    "\n",
    "    df_yellow.repartition(4)\\\n",
    "    .write.parquet(output_path)"
   ]
  },
  {
   "cell_type": "code",
   "execution_count": 31,
   "id": "51111b89-7173-47e1-b5b9-e8b926d20028",
   "metadata": {},
   "outputs": [
    {
     "name": "stdout",
     "output_type": "stream",
     "text": [
      "Processing data for 2020/1\n"
     ]
    },
    {
     "name": "stderr",
     "output_type": "stream",
     "text": [
      "                                                                                \r"
     ]
    },
    {
     "name": "stdout",
     "output_type": "stream",
     "text": [
      "Processing data for 2020/2\n"
     ]
    },
    {
     "name": "stderr",
     "output_type": "stream",
     "text": [
      "                                                                                \r"
     ]
    },
    {
     "name": "stdout",
     "output_type": "stream",
     "text": [
      "Processing data for 2020/3\n"
     ]
    },
    {
     "name": "stderr",
     "output_type": "stream",
     "text": [
      "                                                                                \r"
     ]
    },
    {
     "name": "stdout",
     "output_type": "stream",
     "text": [
      "Processing data for 2020/4\n",
      "Processing data for 2020/5\n",
      "Processing data for 2020/6\n",
      "Processing data for 2020/7\n",
      "Processing data for 2020/8\n",
      "Processing data for 2020/9\n",
      "Processing data for 2020/10\n"
     ]
    },
    {
     "name": "stderr",
     "output_type": "stream",
     "text": [
      "                                                                                \r"
     ]
    },
    {
     "name": "stdout",
     "output_type": "stream",
     "text": [
      "Processing data for 2020/11\n",
      "Processing data for 2020/12\n"
     ]
    }
   ],
   "source": [
    "year=2020\n",
    "for month in range(1,13):\n",
    "    print(f'Processing data for {year}/{month}')\n",
    "    input_path=f'data/raw/green/{year}/{month:02d}/'\n",
    "    output_path=f'data/pq/green/{year}/{month:02d}/'\n",
    "    \n",
    "    df_green=spark.read\\\n",
    "    .option(\"header\",\"true\")\\\n",
    "    .schema(green_schema) \\\n",
    "    .csv(input_path)\n",
    "\n",
    "    df_green.repartition(4)\\\n",
    "    .write.parquet(output_path)"
   ]
  },
  {
   "cell_type": "code",
   "execution_count": null,
   "id": "6cb37a0d-fb47-40bb-81c5-eff511407427",
   "metadata": {},
   "outputs": [],
   "source": []
  }
 ],
 "metadata": {
  "kernelspec": {
   "display_name": "Python 3 (ipykernel)",
   "language": "python",
   "name": "python3"
  },
  "language_info": {
   "codemirror_mode": {
    "name": "ipython",
    "version": 3
   },
   "file_extension": ".py",
   "mimetype": "text/x-python",
   "name": "python",
   "nbconvert_exporter": "python",
   "pygments_lexer": "ipython3",
   "version": "3.11.5"
  }
 },
 "nbformat": 4,
 "nbformat_minor": 5
}
