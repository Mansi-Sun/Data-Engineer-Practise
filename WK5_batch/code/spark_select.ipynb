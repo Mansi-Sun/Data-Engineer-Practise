{
 "cells": [
  {
   "cell_type": "code",
   "execution_count": 1,
   "id": "8474a33e-695f-4989-b76a-7d3951aafab5",
   "metadata": {},
   "outputs": [
    {
     "name": "stderr",
     "output_type": "stream",
     "text": [
      "Setting default log level to \"WARN\".\n",
      "To adjust logging level use sc.setLogLevel(newLevel). For SparkR, use setLogLevel(newLevel).\n",
      "24/02/28 10:04:31 WARN NativeCodeLoader: Unable to load native-hadoop library for your platform... using builtin-java classes where applicable\n"
     ]
    }
   ],
   "source": [
    "import pyspark\n",
    "from pyspark.sql import SparkSession\n",
    "\n",
    "spark=SparkSession.builder\\\n",
    "    .master(\"local[*]\")\\\n",
    "    .appName('test')\\\n",
    "    .getOrCreate()"
   ]
  },
  {
   "cell_type": "code",
   "execution_count": 2,
   "id": "dc2a6bdf-298a-4ea7-b49e-ba4c68b64810",
   "metadata": {},
   "outputs": [
    {
     "name": "stderr",
     "output_type": "stream",
     "text": [
      "                                                                                \r"
     ]
    }
   ],
   "source": [
    "df_green = spark.read.parquet('data/pq/green/*/*')"
   ]
  },
  {
   "cell_type": "code",
   "execution_count": 3,
   "id": "bcce86fb-ce13-4590-bcf5-acb318df578c",
   "metadata": {},
   "outputs": [
    {
     "name": "stderr",
     "output_type": "stream",
     "text": [
      "                                                                                \r"
     ]
    },
    {
     "name": "stdout",
     "output_type": "stream",
     "text": [
      "+--------+--------------------+---------------------+------------------+----------+------------+------------+---------------+-------------+-----------+-----+-------+----------+------------+---------+---------------------+------------+------------+---------+--------------------+\n",
      "|VendorID|lpep_pickup_datetime|lpep_dropoff_datetime|store_and_fwd_flag|RatecodeID|PULocationID|DOLocationID|passenger_count|trip_distance|fare_amount|extra|mta_tax|tip_amount|tolls_amount|ehail_fee|improvement_surcharge|total_amount|payment_type|trip_type|congestion_surcharge|\n",
      "+--------+--------------------+---------------------+------------------+----------+------------+------------+---------------+-------------+-----------+-----+-------+----------+------------+---------+---------------------+------------+------------+---------+--------------------+\n",
      "|       2| 2020-01-29 13:42:10|  2020-01-29 13:48:24|                 N|         1|           7|         193|              3|         0.91|        6.0|  0.0|    0.5|      1.36|         0.0|     NULL|                  0.3|        8.16|           1|        1|                 0.0|\n",
      "|       2| 2020-01-24 17:39:13|  2020-01-24 17:49:10|                 N|         1|         181|         257|              1|         1.79|        8.5|  1.0|    0.5|       0.0|         0.0|     NULL|                  0.3|        10.3|           2|        1|                 0.0|\n",
      "|       2| 2020-01-27 09:14:48|  2020-01-27 09:15:35|                 N|         1|         207|         207|              1|          0.0|        2.5|  0.0|    0.5|       0.0|         0.0|     NULL|                  0.3|         3.3|           2|        1|                 0.0|\n",
      "|       2| 2020-01-07 16:13:20|  2020-01-07 16:26:45|                 N|         1|          97|         189|              2|         1.41|        9.5|  1.0|    0.5|      2.26|         0.0|     NULL|                  0.3|       13.56|           1|        1|                 0.0|\n",
      "|       2| 2020-01-03 08:05:40|  2020-01-03 08:17:11|                 N|         1|         260|           7|              3|         1.47|        9.0|  0.0|    0.5|       0.0|         0.0|     NULL|                  0.3|         9.8|           2|        1|                 0.0|\n",
      "|       2| 2020-01-29 22:02:13|  2020-01-29 22:08:55|                 N|         1|         129|          82|              1|         0.81|        5.5|  0.5|    0.5|       0.0|         0.0|     NULL|                  0.3|         6.8|           2|        1|                 0.0|\n",
      "|    NULL| 2020-01-10 16:15:00|  2020-01-10 16:42:00|              NULL|      NULL|          25|         188|           NULL|         3.73|       14.6|  0.0|    0.0|       0.0|         0.0|     NULL|                  0.3|        14.9|        NULL|     NULL|                NULL|\n",
      "|       2| 2020-01-31 10:51:35|  2020-01-31 11:04:40|                 N|         1|          74|          41|              1|         1.76|       10.0|  0.0|    0.5|       0.0|         0.0|     NULL|                  0.3|        10.8|           2|        1|                 0.0|\n",
      "|       2| 2020-01-21 15:54:44|  2020-01-21 16:04:15|                 N|         1|          41|          74|              1|         0.99|        7.5|  0.0|    0.5|       0.0|         0.0|     NULL|                  0.3|         8.3|           2|        1|                 0.0|\n",
      "|    NULL| 2020-01-28 11:22:00|  2020-01-28 11:36:00|              NULL|      NULL|         242|          31|           NULL|         2.89|      22.93| 2.75|    0.5|       0.0|         0.0|     NULL|                  0.3|       26.48|        NULL|     NULL|                NULL|\n",
      "|       2| 2020-01-27 22:24:24|  2020-01-27 22:38:48|                 N|         1|          95|         121|              1|         2.86|       12.5|  0.5|    0.5|       0.0|         0.0|     NULL|                  0.3|        13.8|           2|        1|                 0.0|\n",
      "|    NULL| 2020-01-09 12:31:00|  2020-01-09 12:35:00|              NULL|      NULL|          76|          76|           NULL|         0.37|        8.0|  0.0|    0.5|       0.0|         0.0|     NULL|                  0.3|         8.8|        NULL|     NULL|                NULL|\n",
      "|       2| 2020-01-13 15:56:03|  2020-01-13 16:18:50|                 N|         1|         116|         142|              1|         4.89|       20.5|  1.0|    0.5|       2.5|         0.0|     NULL|                  0.3|       27.55|           1|        1|                2.75|\n",
      "|       1| 2020-01-11 13:05:42|  2020-01-11 13:09:18|                 N|         1|          24|         166|              1|          0.6|        4.5|  0.0|    0.5|       0.0|         0.0|     NULL|                  0.3|         5.3|           2|        1|                 0.0|\n",
      "|       2| 2020-01-22 21:21:42|  2020-01-22 21:24:23|                 N|         1|          41|          74|              1|         0.64|        4.5|  0.5|    0.5|       2.0|         0.0|     NULL|                  0.3|         7.8|           1|        1|                 0.0|\n",
      "|    NULL| 2020-01-29 21:41:00|  2020-01-29 21:54:00|              NULL|      NULL|          74|          69|           NULL|         2.95|      20.34| 2.75|    0.0|       0.0|         0.0|     NULL|                  0.3|       23.39|        NULL|     NULL|                NULL|\n",
      "|       2| 2020-01-31 16:42:42|  2020-01-31 17:04:19|                 N|         1|         260|          82|              1|         1.48|       13.5|  1.0|    0.5|       0.0|         0.0|     NULL|                  0.3|        15.3|           2|        1|                 0.0|\n",
      "|       2| 2020-01-07 15:33:21|  2020-01-07 15:42:54|                 N|         1|           7|         226|              1|         1.14|        8.0|  0.0|    0.5|       2.2|         0.0|     NULL|                  0.3|        11.0|           1|        1|                 0.0|\n",
      "|       2| 2020-01-12 00:57:58|  2020-01-12 01:02:30|                 N|         1|         166|         151|              1|         0.76|        5.0|  0.5|    0.5|       0.0|         0.0|     NULL|                  0.3|         6.3|           2|        1|                 0.0|\n",
      "|       2| 2020-01-04 18:32:15|  2020-01-04 18:39:26|                 N|         1|         223|         223|              5|         0.81|        6.0|  0.0|    0.5|      1.36|         0.0|     NULL|                  0.3|        8.16|           1|        1|                 0.0|\n",
      "+--------+--------------------+---------------------+------------------+----------+------------+------------+---------------+-------------+-----------+-----+-------+----------+------------+---------+---------------------+------------+------------+---------+--------------------+\n",
      "only showing top 20 rows\n",
      "\n"
     ]
    }
   ],
   "source": [
    "df_green.show()"
   ]
  },
  {
   "cell_type": "code",
   "execution_count": 19,
   "id": "9b508f83-7d35-4449-b80a-98b2d1437acf",
   "metadata": {},
   "outputs": [
    {
     "data": {
      "text/plain": [
       "['VendorID',\n",
       " 'pickup_datetime',\n",
       " 'dropoff_datetime',\n",
       " 'store_and_fwd_flag',\n",
       " 'RatecodeID',\n",
       " 'PULocationID',\n",
       " 'DOLocationID',\n",
       " 'passenger_count',\n",
       " 'trip_distance',\n",
       " 'fare_amount',\n",
       " 'extra',\n",
       " 'mta_tax',\n",
       " 'tip_amount',\n",
       " 'tolls_amount',\n",
       " 'ehail_fee',\n",
       " 'improvement_surcharge',\n",
       " 'total_amount',\n",
       " 'payment_type',\n",
       " 'trip_type',\n",
       " 'congestion_surcharge']"
      ]
     },
     "execution_count": 19,
     "metadata": {},
     "output_type": "execute_result"
    }
   ],
   "source": [
    "df_green.columns"
   ]
  },
  {
   "cell_type": "code",
   "execution_count": 4,
   "id": "3bbd9e4d-3bda-44f2-980e-26fa6bd807dd",
   "metadata": {},
   "outputs": [],
   "source": [
    "df_yellow = spark.read.parquet('data/pq/yellow/*/*')"
   ]
  },
  {
   "cell_type": "code",
   "execution_count": 17,
   "id": "50cd434e-5aad-46ab-8a9e-d4db3b4881b3",
   "metadata": {},
   "outputs": [
    {
     "data": {
      "text/plain": [
       "['VendorID',\n",
       " 'pickup_datetime',\n",
       " 'dropoff_datetime',\n",
       " 'passenger_count',\n",
       " 'trip_distance',\n",
       " 'RatecodeID',\n",
       " 'store_and_fwd_flag',\n",
       " 'PULocationID',\n",
       " 'DOLocationID',\n",
       " 'payment_type',\n",
       " 'fare_amount',\n",
       " 'extra',\n",
       " 'mta_tax',\n",
       " 'tip_amount',\n",
       " 'tolls_amount',\n",
       " 'improvement_surcharge',\n",
       " 'total_amount',\n",
       " 'congestion_surcharge']"
      ]
     },
     "execution_count": 17,
     "metadata": {},
     "output_type": "execute_result"
    }
   ],
   "source": [
    "df_yellow.columns"
   ]
  },
  {
   "cell_type": "markdown",
   "id": "205c199c-83cb-4134-bea5-80d0e50d8d06",
   "metadata": {},
   "source": [
    "Rename columns"
   ]
  },
  {
   "cell_type": "code",
   "execution_count": 5,
   "id": "2bd22591-7aa1-49d2-a916-2f3aad27f012",
   "metadata": {},
   "outputs": [],
   "source": [
    "df_green = df_green \\\n",
    "    .withColumnRenamed('lpep_pickup_datetime','pickup_datetime') \\\n",
    "    .withColumnRenamed('lpep_dropoff_datetime','dropoff_datetime') "
   ]
  },
  {
   "cell_type": "code",
   "execution_count": 6,
   "id": "0b4245d4-0f21-45cb-a5cf-5f46ecd34bf7",
   "metadata": {},
   "outputs": [],
   "source": [
    "df_yellow = df_yellow \\\n",
    "    .withColumnRenamed('tpep_pickup_datetime','pickup_datetime') \\\n",
    "    .withColumnRenamed('tpep_dropoff_datetime','dropoff_datetime') "
   ]
  },
  {
   "cell_type": "markdown",
   "id": "0ca5ee67-8345-41e1-a857-9866e2c6ee63",
   "metadata": {},
   "source": [
    "Compare columns for two data frame\n",
    "Extract the common columns between the two without change the column's order"
   ]
  },
  {
   "cell_type": "code",
   "execution_count": 21,
   "id": "cfe78e26-468d-47c8-96ad-5a0b5af95ae2",
   "metadata": {},
   "outputs": [
    {
     "data": {
      "text/plain": [
       "{'DOLocationID',\n",
       " 'PULocationID',\n",
       " 'RatecodeID',\n",
       " 'VendorID',\n",
       " 'congestion_surcharge',\n",
       " 'dropoff_datetime',\n",
       " 'extra',\n",
       " 'fare_amount',\n",
       " 'improvement_surcharge',\n",
       " 'mta_tax',\n",
       " 'passenger_count',\n",
       " 'payment_type',\n",
       " 'pickup_datetime',\n",
       " 'store_and_fwd_flag',\n",
       " 'tip_amount',\n",
       " 'tolls_amount',\n",
       " 'total_amount',\n",
       " 'trip_distance'}"
      ]
     },
     "execution_count": 21,
     "metadata": {},
     "output_type": "execute_result"
    }
   ],
   "source": [
    "set(df_green.columns) & set(df_yellow.columns)"
   ]
  },
  {
   "cell_type": "code",
   "execution_count": 7,
   "id": "54644d32-8167-4de8-acc2-588df3f96d31",
   "metadata": {},
   "outputs": [],
   "source": [
    "set_columns=[]\n",
    "yellow_columns=set(df_yellow.columns)\n",
    "for column in df_green.columns:\n",
    "    if column in yellow_columns:\n",
    "        set_columns.append(column)"
   ]
  },
  {
   "cell_type": "code",
   "execution_count": 8,
   "id": "21f7bcc8-9903-4ff0-984a-dd66d2b13347",
   "metadata": {},
   "outputs": [
    {
     "data": {
      "text/plain": [
       "['VendorID',\n",
       " 'pickup_datetime',\n",
       " 'dropoff_datetime',\n",
       " 'store_and_fwd_flag',\n",
       " 'RatecodeID',\n",
       " 'PULocationID',\n",
       " 'DOLocationID',\n",
       " 'passenger_count',\n",
       " 'trip_distance',\n",
       " 'fare_amount',\n",
       " 'extra',\n",
       " 'mta_tax',\n",
       " 'tip_amount',\n",
       " 'tolls_amount',\n",
       " 'improvement_surcharge',\n",
       " 'total_amount',\n",
       " 'payment_type',\n",
       " 'congestion_surcharge']"
      ]
     },
     "execution_count": 8,
     "metadata": {},
     "output_type": "execute_result"
    }
   ],
   "source": [
    "set_columns"
   ]
  },
  {
   "cell_type": "markdown",
   "id": "d81b464c-e174-4b13-8702-d352707910aa",
   "metadata": {},
   "source": [
    "Add extra column to identify the original tables"
   ]
  },
  {
   "cell_type": "code",
   "execution_count": 9,
   "id": "10ed66f9-0ba3-43ac-848b-2c02bb2d92fa",
   "metadata": {},
   "outputs": [],
   "source": [
    "from pyspark.sql import functions as F"
   ]
  },
  {
   "cell_type": "code",
   "execution_count": 10,
   "id": "1f543796-13e7-4cc4-b859-e88358b2c769",
   "metadata": {},
   "outputs": [],
   "source": [
    "df_yellow_sel=df_yellow \\\n",
    "    .select(set_columns) \\\n",
    "    .withColumn('service_type',F.lit('yellow'))"
   ]
  },
  {
   "cell_type": "code",
   "execution_count": 11,
   "id": "58b8760a-8e40-4f47-b3fc-3abf27b2cf8f",
   "metadata": {},
   "outputs": [],
   "source": [
    "df_green_sel=df_green \\\n",
    "    .select(set_columns) \\\n",
    "    .withColumn('service_type',F.lit('green'))"
   ]
  },
  {
   "cell_type": "markdown",
   "id": "d1cb327d-d93f-4d31-9105-6369b9aad43b",
   "metadata": {},
   "source": [
    "Merge data together"
   ]
  },
  {
   "cell_type": "code",
   "execution_count": 12,
   "id": "dde86eee-b027-4455-ac8f-3675e6f52a4f",
   "metadata": {},
   "outputs": [],
   "source": [
    "df_trips_data=df_yellow_sel.unionAll(df_green_sel)"
   ]
  },
  {
   "cell_type": "code",
   "execution_count": 13,
   "id": "0e2321f8-e0ad-47d5-a8d6-e269d588d9fd",
   "metadata": {},
   "outputs": [
    {
     "name": "stderr",
     "output_type": "stream",
     "text": [
      "[Stage 3:===============================>                         (11 + 8) / 20]\r"
     ]
    },
    {
     "name": "stdout",
     "output_type": "stream",
     "text": [
      "+------------+--------+\n",
      "|service_type|   count|\n",
      "+------------+--------+\n",
      "|      yellow|39649199|\n",
      "|       green| 2304517|\n",
      "+------------+--------+\n",
      "\n"
     ]
    },
    {
     "name": "stderr",
     "output_type": "stream",
     "text": [
      "                                                                                \r"
     ]
    }
   ],
   "source": [
    "df_trips_data.groupBy('service_type').count().show()"
   ]
  },
  {
   "cell_type": "markdown",
   "id": "7fbd212b-3a2b-477e-8908-8a7fd61a722d",
   "metadata": {},
   "source": [
    "Create temporary view to select the data"
   ]
  },
  {
   "cell_type": "code",
   "execution_count": 14,
   "id": "53d3a305-16c8-4142-a618-6ba0fc2c2994",
   "metadata": {},
   "outputs": [],
   "source": [
    "df_trips_data.createOrReplaceTempView('trip_data')"
   ]
  },
  {
   "cell_type": "code",
   "execution_count": 15,
   "id": "d190dc52-9e29-4ed3-a1c4-88aaa73968e7",
   "metadata": {},
   "outputs": [
    {
     "name": "stdout",
     "output_type": "stream",
     "text": [
      "+--------+-------------------+-------------------+------------------+----------+------------+------------+---------------+-------------+-----------+-----+-------+----------+------------+---------------------+------------+------------+--------------------+------------+\n",
      "|VendorID|    pickup_datetime|   dropoff_datetime|store_and_fwd_flag|RatecodeID|PULocationID|DOLocationID|passenger_count|trip_distance|fare_amount|extra|mta_tax|tip_amount|tolls_amount|improvement_surcharge|total_amount|payment_type|congestion_surcharge|service_type|\n",
      "+--------+-------------------+-------------------+------------------+----------+------------+------------+---------------+-------------+-----------+-----+-------+----------+------------+---------------------+------------+------------+--------------------+------------+\n",
      "|       2|2020-01-08 13:40:30|2020-01-08 13:55:37|                 N|         1|         234|         237|              1|         2.61|       12.0|  0.0|    0.5|      3.06|         0.0|                  0.3|       18.36|           1|                 2.5|      yellow|\n",
      "|       1|2020-01-11 13:27:45|2020-01-11 13:35:38|                 N|         1|         100|         249|              1|          1.6|        7.5|  2.5|    0.5|      2.15|         0.0|                  0.3|       12.95|           1|                 2.5|      yellow|\n",
      "|       2|2020-01-04 09:57:26|2020-01-04 10:16:50|                 N|         1|         244|         238|              1|         4.39|       18.0|  0.0|    0.5|       0.0|         0.0|                  0.3|        21.3|           2|                 2.5|      yellow|\n",
      "|       1|2020-01-13 07:22:33|2020-01-13 07:37:27|                 N|         1|         186|         142|              1|          2.3|       11.5|  2.5|    0.5|       0.0|         0.0|                  0.3|        14.8|           2|                 2.5|      yellow|\n",
      "|       1|2020-01-31 18:09:50|2020-01-31 18:30:32|                 N|         1|         100|         234|              1|          1.9|       13.5|  3.5|    0.5|       0.0|         0.0|                  0.3|        17.8|           1|                 2.5|      yellow|\n",
      "|       1|2020-01-19 11:13:08|2020-01-19 11:31:05|                 N|         1|         140|          48|              1|          2.9|       13.5|  3.0|    0.5|       0.0|         0.0|                  0.3|        17.3|           2|                 2.5|      yellow|\n",
      "|       1|2020-01-28 12:48:37|2020-01-28 12:55:45|                 N|         1|         238|         142|              1|          1.0|        6.5|  2.5|    0.5|       0.0|         0.0|                  0.3|         9.8|           2|                 2.5|      yellow|\n",
      "|       1|2020-01-13 12:01:37|2020-01-13 12:06:31|                 N|         1|          41|         151|              1|          0.8|        5.5|  0.0|    0.5|       0.0|         0.0|                  0.3|         6.3|           2|                 0.0|      yellow|\n",
      "|       2|2020-01-27 19:14:53|2020-01-27 19:29:15|                 N|         1|         239|         263|              1|         2.41|       12.0|  1.0|    0.5|      3.26|         0.0|                  0.3|       19.56|           1|                 2.5|      yellow|\n",
      "|       2|2020-01-30 20:29:52|2020-01-30 20:35:31|                 N|         1|         141|          75|              1|         1.83|        7.5|  0.5|    0.5|       0.0|         0.0|                  0.3|        11.3|           2|                 2.5|      yellow|\n",
      "+--------+-------------------+-------------------+------------------+----------+------------+------------+---------------+-------------+-----------+-----+-------+----------+------------+---------------------+------------+------------+--------------------+------------+\n",
      "\n"
     ]
    }
   ],
   "source": [
    "spark.sql(\"\"\"\n",
    "SELECT * FROM trip_data LIMIT 10;\n",
    "\"\"\").show()"
   ]
  },
  {
   "cell_type": "code",
   "execution_count": 18,
   "id": "026852da-7183-413d-9a14-833ff14c9e08",
   "metadata": {},
   "outputs": [],
   "source": [
    "df_result=spark.sql(\"\"\"\n",
    "select \n",
    "PULocationID AS revenue_zone,\n",
    "date_trunc(\"month\", \"pickup_datetime\") AS revenue_month, \n",
    "service_type, \n",
    "SUM(fare_amount) AS revenue_monthly_fare,\n",
    "SUM(extra) AS revenue_monthly_extra,\n",
    "SUM(mta_tax) AS revenue_monthly_mta_tax,\n",
    "SUM(tip_amount) AS revenue_monthly_tip_amount,\n",
    "SUM(tolls_amount) AS revenue_monthly_tolls_amount,\n",
    "SUM(improvement_surcharge) AS revenue_monthly_improvement_surcharge,\n",
    "SUM(total_amount) AS revenue_monthly_total_amount,\n",
    "avg(passenger_count) AS avg_monthly_passenger_count,\n",
    "avg(trip_distance) AS avg_monthly_trip_distance\n",
    "FROM trip_data\n",
    "GROUP BY 1,2,3\n",
    "\"\"\")"
   ]
  },
  {
   "cell_type": "code",
   "execution_count": 19,
   "id": "1ea7e4a1-c793-4629-835c-8d62e80d01e1",
   "metadata": {},
   "outputs": [
    {
     "name": "stderr",
     "output_type": "stream",
     "text": [
      "[Stage 7:================================================>        (17 + 3) / 20]\r"
     ]
    },
    {
     "name": "stdout",
     "output_type": "stream",
     "text": [
      "+------------+-------------+------------+--------------------+---------------------+-----------------------+--------------------------+----------------------------+-------------------------------------+----------------------------+---------------------------+-------------------------+\n",
      "|revenue_zone|revenue_month|service_type|revenue_monthly_fare|revenue_monthly_extra|revenue_monthly_mta_tax|revenue_monthly_tip_amount|revenue_monthly_tolls_amount|revenue_monthly_improvement_surcharge|revenue_monthly_total_amount|avg_monthly_passenger_count|avg_monthly_trip_distance|\n",
      "+------------+-------------+------------+--------------------+---------------------+-----------------------+--------------------------+----------------------------+-------------------------------------+----------------------------+---------------------------+-------------------------+\n",
      "|         131|         NULL|      yellow|  121304.70000000004|    4488.400000000001|                 1831.5|        4034.2900000000004|           6075.390000000001|                   1159.8000000000004|          139113.43000000008|         1.1738148984198646|       126.42215056526214|\n",
      "|         206|         NULL|      yellow|            19267.47|                185.1|                  163.0|         517.2099999999999|           2540.560000000001|                   100.50000000000009|          22844.690000000002|         1.1940298507462686|       15.378908554572272|\n",
      "|          16|         NULL|      yellow|   94434.84000000004|              3051.35|                 1284.5|        3353.8999999999996|           3562.050000000002|                    809.3999999999965|          106645.54000000007|         1.0946822308690014|        90.13523809523812|\n",
      "|         180|         NULL|      yellow|  51970.589999999975|              1333.54|                  683.0|                   1923.15|          2422.2900000000004|                    437.3999999999994|           58902.07000000002|         1.2518939393939394|       13.872418478260872|\n",
      "|         127|         NULL|      yellow|   169084.0200000003|    4406.400000000001|                 3374.0|                  11740.71|           6503.969999999996|                   2087.7000000000176|           199022.3999999993|         1.4200842385280426|       42.939912106606194|\n",
      "|         101|         NULL|      yellow|   82257.98999999998|              2001.85|                  897.0|                   3537.35|          3208.9200000000014|                    575.3999999999985|           92594.26000000004|         1.1656942823803966|       139.60078461538458|\n",
      "|         244|         NULL|      yellow|  1196573.0699999959|   37910.700000000004|                32616.0|        114040.25999999997|            31507.7999999999|                   19846.199999998902|          1466954.4800000035|         1.4254463819567715|        6.270198445263423|\n",
      "|          14|         NULL|      yellow|   275076.5100000002|              7915.65|                 3948.5|        11569.029999999999|           12673.81999999996|                   2466.9000000000337|           314414.2099999999|         1.1999254009697875|       105.62253456775281|\n",
      "|           6|         NULL|      yellow|   6439.110000000001|                 47.5|                   81.0|         600.6600000000001|                      904.32|                    52.80000000000001|           8160.390000000001|          1.247191011235955|       10.134204545454546|\n",
      "|         209|         NULL|      yellow|  1102859.5099999984|    73076.06000000001|                33035.0|        169422.61999999976|           13919.33999999996|                   20057.099999998674|          1523194.6800000118|           1.51578295853105|       6.5105628276127625|\n",
      "|          71|         NULL|      yellow|  249952.36000000063|    9392.890000000001|                 4232.5|                   9008.15|          12404.329999999967|                    2663.100000000037|          288302.37999999954|         1.2583444592790387|       18.755986081490633|\n",
      "|           3|         NULL|      yellow|   93643.77000000008|              3285.84|                 1509.0|                    4400.5|           6811.370000000002|                    935.0999999999982|          110780.72999999995|         1.2358003442340793|        7.879190400000001|\n",
      "|         100|         NULL|      yellow|   7746848.139999997|            788633.85|              345662.15|        1249491.7100000263|          154995.11999999968|                    208572.2999997552|        1.1643111070006724E7|         1.4301381686362231|       2.5703857179013947|\n",
      "|          45|         NULL|      yellow|   863692.6299999986|             62411.67|                26836.0|        112032.42999999982|           9243.509999999995|                   16267.199999998782|          1173533.4900000375|         1.5109232560941328|        5.590053443747266|\n",
      "|         186|         NULL|      yellow|1.5411946419999946E7|           1507581.14|              671402.42|        2730213.4599999264|          212505.68999999843|                    404473.7999998407|        2.3147746230012164E7|         1.4173607101589882|       2.4761340962279617|\n",
      "|          88|         NULL|      yellow|  1909370.2400000019|   123990.24999999999|                52843.3|         293623.2100000007|          36932.109999999746|                   31995.000000003653|           2624434.209999815|          1.486161321109408|        4.812472544305089|\n",
      "|         114|         NULL|      yellow|   4549954.690000004|             481187.9|               204866.0|         896434.6700000267|          22425.419999999936|                   123276.29999994668|           6976888.880000788|         1.5077862071501231|        2.670040403406153|\n",
      "|         178|         NULL|      yellow|  26048.840000000007|                993.6|                  477.0|                    1073.2|          1375.4800000000002|                   302.70000000000005|           30365.16999999999|         1.1883116883116882|        5.412068627450981|\n",
      "|         221|         NULL|      yellow|             10576.7|                 66.0|                  100.5|        466.95000000000005|          1726.7300000000002|                    63.60000000000002|                    13060.48|         1.2783505154639174|        15.17929245283019|\n",
      "|          29|         NULL|      yellow|  137072.58000000005|               3704.9|                 1996.0|                   5277.18|           5377.430000000002|                   1241.7000000000057|           155083.4899999998|         1.2137014314928425|        86.76959008579601|\n",
      "+------------+-------------+------------+--------------------+---------------------+-----------------------+--------------------------+----------------------------+-------------------------------------+----------------------------+---------------------------+-------------------------+\n",
      "only showing top 20 rows\n",
      "\n"
     ]
    },
    {
     "name": "stderr",
     "output_type": "stream",
     "text": [
      "                                                                                \r"
     ]
    }
   ],
   "source": [
    "df_result.show()"
   ]
  },
  {
   "cell_type": "code",
   "execution_count": 20,
   "id": "c5dce629-4b30-42eb-be2e-2cb874cf9cf2",
   "metadata": {},
   "outputs": [
    {
     "name": "stderr",
     "output_type": "stream",
     "text": [
      "                                                                                \r"
     ]
    }
   ],
   "source": [
    "df_result.coalesce(1).write.parquet('data/report/revenue/')"
   ]
  },
  {
   "cell_type": "code",
   "execution_count": null,
   "id": "aeb9b2c1-b847-4590-8d02-7f4522bb2e81",
   "metadata": {},
   "outputs": [],
   "source": []
  }
 ],
 "metadata": {
  "kernelspec": {
   "display_name": "Python 3 (ipykernel)",
   "language": "python",
   "name": "python3"
  },
  "language_info": {
   "codemirror_mode": {
    "name": "ipython",
    "version": 3
   },
   "file_extension": ".py",
   "mimetype": "text/x-python",
   "name": "python",
   "nbconvert_exporter": "python",
   "pygments_lexer": "ipython3",
   "version": "3.11.5"
  }
 },
 "nbformat": 4,
 "nbformat_minor": 5
}
