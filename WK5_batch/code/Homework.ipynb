{
 "cells": [
  {
   "cell_type": "code",
   "execution_count": 1,
   "id": "3abaeb65-662d-47fa-b522-4cfdcc9159ee",
   "metadata": {},
   "outputs": [],
   "source": [
    "import pyspark"
   ]
  },
  {
   "cell_type": "code",
   "execution_count": 2,
   "id": "98512272-afd0-4a73-b71a-52694077032c",
   "metadata": {},
   "outputs": [],
   "source": [
    "from pyspark.sql import SparkSession"
   ]
  },
  {
   "cell_type": "code",
   "execution_count": 3,
   "id": "86274711-fc08-4f05-867f-70f44fec12bf",
   "metadata": {},
   "outputs": [
    {
     "name": "stderr",
     "output_type": "stream",
     "text": [
      "Setting default log level to \"WARN\".\n",
      "To adjust logging level use sc.setLogLevel(newLevel). For SparkR, use setLogLevel(newLevel).\n",
      "24/03/01 09:37:39 WARN NativeCodeLoader: Unable to load native-hadoop library for your platform... using builtin-java classes where applicable\n",
      "24/03/01 09:37:40 WARN Utils: Service 'SparkUI' could not bind on port 4040. Attempting port 4041.\n",
      "24/03/01 09:37:40 WARN Utils: Service 'SparkUI' could not bind on port 4041. Attempting port 4042.\n"
     ]
    }
   ],
   "source": [
    "spark = SparkSession.builder \\\n",
    "        .master(\"local[*]\") \\\n",
    "        .appName('fhv analysis') \\\n",
    "        .getOrCreate()"
   ]
  },
  {
   "cell_type": "markdown",
   "id": "a40924d1-e2b4-4204-b809-c074216279c8",
   "metadata": {},
   "source": [
    "1.spark.version"
   ]
  },
  {
   "cell_type": "code",
   "execution_count": 32,
   "id": "38e9e9ed-e072-41a8-b9c2-4f217aad4586",
   "metadata": {},
   "outputs": [
    {
     "data": {
      "text/plain": [
       "'3.5.0'"
      ]
     },
     "execution_count": 32,
     "metadata": {},
     "output_type": "execute_result"
    }
   ],
   "source": [
    "spark.version"
   ]
  },
  {
   "cell_type": "code",
   "execution_count": 6,
   "id": "974ffb37-33be-440e-a477-5f54e73139c9",
   "metadata": {},
   "outputs": [],
   "source": [
    "fhv_df=spark \\\n",
    "        .read \\\n",
    "        .option(\"header\", \"true\") \\\n",
    "        .csv('./data/raw/fhv/fhv_tripdata_2019-10.csv.gz')"
   ]
  },
  {
   "cell_type": "code",
   "execution_count": 11,
   "id": "f6989efc-f0e6-4aa6-8e42-04fd327a3ef4",
   "metadata": {},
   "outputs": [
    {
     "data": {
      "text/plain": [
       "<bound method DataFrame.printSchema of DataFrame[dispatching_base_num: string, pickup_datetime: string, dropOff_datetime: string, PUlocationID: string, DOlocationID: string, SR_Flag: string, Affiliated_base_number: string]>"
      ]
     },
     "execution_count": 11,
     "metadata": {},
     "output_type": "execute_result"
    }
   ],
   "source": [
    "fhv_df.printSchema"
   ]
  },
  {
   "cell_type": "code",
   "execution_count": 12,
   "id": "cb2f598c-0d35-4c7a-b4db-f79299badad1",
   "metadata": {},
   "outputs": [],
   "source": [
    "import pandas as pd"
   ]
  },
  {
   "cell_type": "code",
   "execution_count": 13,
   "id": "74ec5f4a-9bb3-4730-8284-66c99771fde3",
   "metadata": {},
   "outputs": [],
   "source": [
    "fhv_pd=pd.read_csv('./data/raw/fhv/fhv_tripdata_2019-10.csv.gz')"
   ]
  },
  {
   "cell_type": "code",
   "execution_count": 14,
   "id": "0926f0f3-6444-4d7f-ab3d-cddaf2e67a1c",
   "metadata": {},
   "outputs": [
    {
     "data": {
      "text/plain": [
       "dispatching_base_num       object\n",
       "pickup_datetime            object\n",
       "dropOff_datetime           object\n",
       "PUlocationID              float64\n",
       "DOlocationID              float64\n",
       "SR_Flag                   float64\n",
       "Affiliated_base_number     object\n",
       "dtype: object"
      ]
     },
     "execution_count": 14,
     "metadata": {},
     "output_type": "execute_result"
    }
   ],
   "source": [
    "fhv_pd.dtypes"
   ]
  },
  {
   "cell_type": "code",
   "execution_count": 16,
   "id": "3699229b-c448-4cbf-8bcc-fb4befec5a57",
   "metadata": {},
   "outputs": [
    {
     "data": {
      "text/plain": [
       "StructType([StructField('dispatching_base_num', StringType(), True), StructField('pickup_datetime', StringType(), True), StructField('dropOff_datetime', StringType(), True), StructField('PUlocationID', DoubleType(), True), StructField('DOlocationID', DoubleType(), True), StructField('SR_Flag', DoubleType(), True), StructField('Affiliated_base_number', StringType(), True)])"
      ]
     },
     "execution_count": 16,
     "metadata": {},
     "output_type": "execute_result"
    }
   ],
   "source": [
    "spark.createDataFrame(fhv_pd).schema"
   ]
  },
  {
   "cell_type": "code",
   "execution_count": 17,
   "id": "93f73ca6-ca21-4906-b231-7f2884ee72cd",
   "metadata": {},
   "outputs": [],
   "source": [
    "from pyspark.sql import types"
   ]
  },
  {
   "cell_type": "code",
   "execution_count": 19,
   "id": "6c7482ff-a71f-493c-9dde-b4990e08e779",
   "metadata": {},
   "outputs": [],
   "source": [
    "fhv_schema=types.StructType([\n",
    " types.StructField('dispatching_base_num', types.IntegerType(), True),\n",
    " types.StructField('pickup_datetime', types.TimestampType(), True),\n",
    " types.StructField('dropOff_datetime', types.TimestampType(), True),\n",
    " types.StructField('PUlocationID', types.IntegerType(), True),\n",
    " types.StructField('DOlocationID', types.IntegerType(), True),\n",
    " types.StructField('SR_Flag', types.IntegerType(), True),\n",
    " types.StructField('Affiliated_base_number', types.StringType(), True)\n",
    " ])"
   ]
  },
  {
   "cell_type": "code",
   "execution_count": 20,
   "id": "77f69fd9-bffd-41e1-b028-019f07e1f52d",
   "metadata": {},
   "outputs": [],
   "source": [
    "df=spark \\\n",
    "        .read \\\n",
    "        .option(\"header\", \"true\") \\\n",
    "        .schema(fhv_schema) \\\n",
    "        .csv('./data/raw/fhv/fhv_tripdata_2019-10.csv.gz')"
   ]
  },
  {
   "cell_type": "code",
   "execution_count": 21,
   "id": "0e7a1c5c-e968-46ec-9e48-fdd613b9921d",
   "metadata": {},
   "outputs": [
    {
     "name": "stdout",
     "output_type": "stream",
     "text": [
      "+--------------------+-------------------+-------------------+------------+------------+-------+----------------------+\n",
      "|dispatching_base_num|    pickup_datetime|   dropOff_datetime|PUlocationID|DOlocationID|SR_Flag|Affiliated_base_number|\n",
      "+--------------------+-------------------+-------------------+------------+------------+-------+----------------------+\n",
      "|                NULL|2019-10-01 00:23:00|2019-10-01 00:35:00|         264|         264|   NULL|                B00009|\n",
      "|                NULL|2019-10-01 00:11:29|2019-10-01 00:13:22|         264|         264|   NULL|                B00013|\n",
      "|                NULL|2019-10-01 00:11:43|2019-10-01 00:37:20|         264|         264|   NULL|                B00014|\n",
      "|                NULL|2019-10-01 00:56:29|2019-10-01 00:57:47|         264|         264|   NULL|                B00014|\n",
      "|                NULL|2019-10-01 00:23:09|2019-10-01 00:28:27|         264|         264|   NULL|                B00014|\n",
      "|                NULL|2019-10-01 00:00:48|2019-10-01 00:07:12|         129|         129|   NULL|       B00021         |\n",
      "|                NULL|2019-10-01 00:47:23|2019-10-01 00:53:25|          57|          57|   NULL|       B00021         |\n",
      "|                NULL|2019-10-01 00:10:06|2019-10-01 00:19:50|         173|         173|   NULL|       B00021         |\n",
      "|                NULL|2019-10-01 00:51:37|2019-10-01 01:06:14|         226|         226|   NULL|       B00021         |\n",
      "|                NULL|2019-10-01 00:28:23|2019-10-01 00:34:33|          56|          56|   NULL|       B00021         |\n",
      "|                NULL|2019-10-01 00:31:17|2019-10-01 00:51:52|          82|          82|   NULL|       B00021         |\n",
      "|                NULL|2019-10-01 00:07:41|2019-10-01 00:15:23|         264|          71|   NULL|                B00037|\n",
      "|                NULL|2019-10-01 00:13:38|2019-10-01 00:25:51|         264|          39|   NULL|                B00037|\n",
      "|                NULL|2019-10-01 00:42:40|2019-10-01 00:53:47|         264|         188|   NULL|                B00037|\n",
      "|                NULL|2019-10-01 00:58:46|2019-10-01 01:10:11|         264|          91|   NULL|                B00037|\n",
      "|                NULL|2019-10-01 00:09:49|2019-10-01 00:14:37|         264|          71|   NULL|                B00037|\n",
      "|                NULL|2019-10-01 00:22:35|2019-10-01 00:36:53|         264|          35|   NULL|                B00037|\n",
      "|                NULL|2019-10-01 00:54:27|2019-10-01 01:03:37|         264|          61|   NULL|                B00037|\n",
      "|                NULL|2019-10-01 00:08:12|2019-10-01 00:28:47|         264|         198|   NULL|                B00037|\n",
      "|                NULL|2019-10-01 00:05:24|2019-10-01 00:53:03|         264|         264|   NULL|                  #N/A|\n",
      "+--------------------+-------------------+-------------------+------------+------------+-------+----------------------+\n",
      "only showing top 20 rows\n",
      "\n"
     ]
    }
   ],
   "source": [
    "df.show()"
   ]
  },
  {
   "cell_type": "code",
   "execution_count": 23,
   "id": "4cdbd181-3594-48c3-b6ea-0914467d164c",
   "metadata": {},
   "outputs": [
    {
     "name": "stdout",
     "output_type": "stream",
     "text": [
      "root\n",
      " |-- dispatching_base_num: integer (nullable = true)\n",
      " |-- pickup_datetime: timestamp (nullable = true)\n",
      " |-- dropOff_datetime: timestamp (nullable = true)\n",
      " |-- PUlocationID: integer (nullable = true)\n",
      " |-- DOlocationID: integer (nullable = true)\n",
      " |-- SR_Flag: integer (nullable = true)\n",
      " |-- Affiliated_base_number: string (nullable = true)\n",
      "\n"
     ]
    }
   ],
   "source": [
    "df.printSchema()"
   ]
  },
  {
   "cell_type": "markdown",
   "id": "805baaea-c4ca-432d-bfef-0662097ef3bc",
   "metadata": {},
   "source": [
    "2.Repartition into 6"
   ]
  },
  {
   "cell_type": "code",
   "execution_count": 28,
   "id": "2f1f6b7f-e1f5-4feb-b8d1-75130f1b57e9",
   "metadata": {},
   "outputs": [],
   "source": [
    "df=df.repartition(6)"
   ]
  },
  {
   "cell_type": "code",
   "execution_count": 29,
   "id": "086d89f2-6c5d-4c50-8c82-e3809f925d31",
   "metadata": {},
   "outputs": [
    {
     "name": "stderr",
     "output_type": "stream",
     "text": [
      "                                                                                \r"
     ]
    }
   ],
   "source": [
    "df.write.parquet('./data/pq/fhv')"
   ]
  },
  {
   "cell_type": "markdown",
   "id": "d74dada9-14bb-4f60-808e-a0f808f1bda1",
   "metadata": {},
   "source": [
    "3. select count(*)"
   ]
  },
  {
   "cell_type": "code",
   "execution_count": 30,
   "id": "a6aa80c7-0573-46ca-838c-783a850971e6",
   "metadata": {},
   "outputs": [],
   "source": [
    "df_fhv_2019=spark.read.parquet('./data/pq/fhv')"
   ]
  },
  {
   "cell_type": "code",
   "execution_count": 46,
   "id": "94a7ae10-7c3d-4b00-a447-4e7c88b29176",
   "metadata": {},
   "outputs": [
    {
     "data": {
      "text/plain": [
       "[Row(dispatching_base_num=None, pickup_datetime=datetime.datetime(2019, 10, 11, 6, 49, 28), dropOff_datetime=datetime.datetime(2019, 10, 11, 7, 19, 28), PUlocationID=264, DOlocationID=264, SR_Flag=None, Affiliated_base_number='B02839')]"
      ]
     },
     "execution_count": 46,
     "metadata": {},
     "output_type": "execute_result"
    }
   ],
   "source": [
    "df_fhv_2019.take(1)"
   ]
  },
  {
   "cell_type": "code",
   "execution_count": 47,
   "id": "143401d7-bb3d-4e0d-b9a7-11d673128f9d",
   "metadata": {},
   "outputs": [],
   "source": [
    "from pyspark.sql.functions import year,month,dayofmonth"
   ]
  },
  {
   "cell_type": "code",
   "execution_count": 64,
   "id": "d434edae-c629-4d6b-bb67-46d90c0612b2",
   "metadata": {},
   "outputs": [],
   "source": [
    "columns=['pickup_datetime','dropOff_datetime','PUlocationID','DOlocationID']\n",
    "\n",
    "result=df_fhv_2019 \\\n",
    "    .select(columns) \\\n",
    "    .filter(year(\"pickup_datetime\")==2019) \\\n",
    "    .filter(month(\"pickup_datetime\")==10) \\\n",
    "    .filter(dayofmonth(\"pickup_datetime\")==15)"
   ]
  },
  {
   "cell_type": "code",
   "execution_count": 66,
   "id": "2daf9bbb-81f0-437a-b93a-555d77122b25",
   "metadata": {},
   "outputs": [
    {
     "data": {
      "text/plain": [
       "62610"
      ]
     },
     "execution_count": 66,
     "metadata": {},
     "output_type": "execute_result"
    }
   ],
   "source": [
    "result.count()"
   ]
  },
  {
   "cell_type": "markdown",
   "id": "052ad6fe-2b93-4fea-bcf9-7862e8d45641",
   "metadata": {},
   "source": [
    "4.Longest trip"
   ]
  },
  {
   "cell_type": "code",
   "execution_count": 78,
   "id": "f6650ce8-652f-4027-8224-7fa02dc91237",
   "metadata": {},
   "outputs": [],
   "source": [
    "from pyspark.sql.functions import unix_timestamp"
   ]
  },
  {
   "cell_type": "code",
   "execution_count": 82,
   "id": "b12254c2-dfcb-4d42-aadd-3a54cfef31b0",
   "metadata": {},
   "outputs": [],
   "source": [
    "df_fhv_2019=df_fhv_2019.withColumn('duration',unix_timestamp('dropOff_datetime')-unix_timestamp('pickup_datetime'))"
   ]
  },
  {
   "cell_type": "code",
   "execution_count": 84,
   "id": "8a220872-41b7-4464-8fb1-393d66f54f56",
   "metadata": {},
   "outputs": [
    {
     "data": {
      "text/plain": [
       "[Row(dispatching_base_num=None, pickup_datetime=datetime.datetime(2019, 10, 11, 6, 49, 28), dropOff_datetime=datetime.datetime(2019, 10, 11, 7, 19, 28), PUlocationID=264, DOlocationID=264, SR_Flag=None, Affiliated_base_number='B02839', duration=1800)]"
      ]
     },
     "execution_count": 84,
     "metadata": {},
     "output_type": "execute_result"
    }
   ],
   "source": [
    "df_fhv_2019.take(1)"
   ]
  },
  {
   "cell_type": "code",
   "execution_count": 85,
   "id": "60eb62a2-4264-4a31-9efe-14ae9a04eed9",
   "metadata": {},
   "outputs": [],
   "source": [
    "df_fhv_2019.createOrReplaceTempView('fhv_2019')"
   ]
  },
  {
   "cell_type": "code",
   "execution_count": 94,
   "id": "20e8b294-8167-4404-964e-11d4acd6c747",
   "metadata": {},
   "outputs": [],
   "source": [
    "duration_analysis=spark.sql(\"\"\"\n",
    "select *\n",
    "from fhv_2019\n",
    "order by duration desc\n",
    "limit 10;\n",
    "\"\"\")"
   ]
  },
  {
   "cell_type": "code",
   "execution_count": 95,
   "id": "beded80d-b1e4-4b1b-92a6-461692dbf1ce",
   "metadata": {},
   "outputs": [
    {
     "name": "stderr",
     "output_type": "stream",
     "text": [
      "[Stage 61:>                                                         (0 + 6) / 6]\r"
     ]
    },
    {
     "name": "stdout",
     "output_type": "stream",
     "text": [
      "+--------------------+-------------------+-------------------+------------+------------+-------+----------------------+----------+\n",
      "|dispatching_base_num|    pickup_datetime|   dropOff_datetime|PUlocationID|DOlocationID|SR_Flag|Affiliated_base_number|  duration|\n",
      "+--------------------+-------------------+-------------------+------------+------------+-------+----------------------+----------+\n",
      "|                NULL|2019-10-11 18:00:00|2091-10-11 18:30:00|         264|         264|   NULL|                B02832|2272149000|\n",
      "|                NULL|2019-10-28 09:00:00|2091-10-28 09:30:00|         264|         264|   NULL|                B02832|2272149000|\n",
      "|                NULL|2019-10-31 23:46:33|2029-11-01 00:13:00|        NULL|        NULL|   NULL|                B02416| 315620787|\n",
      "|                NULL|2019-10-01 21:43:42|2027-10-01 21:45:23|         159|         264|   NULL|       B00746         | 252460901|\n",
      "|                NULL|2019-10-17 14:00:00|2020-10-18 00:00:00|        NULL|        NULL|   NULL|                B03037|  31658400|\n",
      "|                NULL|2019-10-26 21:26:00|2020-10-26 21:36:00|         264|         264|   NULL|                B03110|  31623000|\n",
      "|                NULL|2019-10-30 12:30:04|2019-12-30 13:02:08|         264|          50|   NULL|                B02883|   5272324|\n",
      "|                NULL|2019-10-25 07:04:57|2019-12-08 07:54:33|         168|         235|   NULL|                B02765|   3804576|\n",
      "|                NULL|2019-10-25 07:04:57|2019-12-08 07:21:11|         168|         235|   NULL|                B02765|   3802574|\n",
      "|                NULL|2019-10-01 13:47:17|2019-11-03 15:20:28|          44|         214|   NULL|                B01452|   2853191|\n",
      "+--------------------+-------------------+-------------------+------------+------------+-------+----------------------+----------+\n",
      "\n"
     ]
    },
    {
     "name": "stderr",
     "output_type": "stream",
     "text": [
      "                                                                                \r"
     ]
    }
   ],
   "source": [
    "duration_analysis.show()"
   ]
  },
  {
   "cell_type": "markdown",
   "id": "8b7bca65-d525-4248-bbdd-db263a257d7b",
   "metadata": {},
   "source": [
    "6. Join two tables to get the least pickup zone name"
   ]
  },
  {
   "cell_type": "code",
   "execution_count": 98,
   "id": "b96b76a3-4f09-44d4-96aa-c9dd5c84967d",
   "metadata": {},
   "outputs": [],
   "source": [
    "zone=spark.read \\\n",
    "    .option(\"header\",\"true\") \\\n",
    "    .csv('./data/raw/fhv/taxi_zone_lookup.csv')"
   ]
  },
  {
   "cell_type": "code",
   "execution_count": 101,
   "id": "de62017e-d846-454e-a298-7bc96738789f",
   "metadata": {},
   "outputs": [],
   "source": [
    "zone.createOrReplaceTempView('zone_lookup')"
   ]
  },
  {
   "cell_type": "code",
   "execution_count": 113,
   "id": "6029a43f-9361-4637-990c-908dee9eb5c6",
   "metadata": {},
   "outputs": [],
   "source": [
    "result=spark.sql(\"\"\"\n",
    "select Zone,count(*) \n",
    "from fhv_2019\n",
    "inner join zone_lookup on fhv_2019.PUlocationID=zone_lookup.LocationID\n",
    "group by Zone\n",
    "order by count(*)\n",
    "limit  3;\n",
    "\"\"\")"
   ]
  },
  {
   "cell_type": "code",
   "execution_count": 114,
   "id": "59e4589f-7ca5-4557-b506-a005656d3feb",
   "metadata": {},
   "outputs": [
    {
     "name": "stdout",
     "output_type": "stream",
     "text": [
      "+--------------------+--------+\n",
      "|                Zone|count(1)|\n",
      "+--------------------+--------+\n",
      "|         Jamaica Bay|       1|\n",
      "|Governor's Island...|       2|\n",
      "| Green-Wood Cemetery|       5|\n",
      "+--------------------+--------+\n",
      "\n"
     ]
    }
   ],
   "source": [
    "result.show()"
   ]
  },
  {
   "cell_type": "code",
   "execution_count": null,
   "id": "19102a5c-1039-44f3-b82b-0bf124d8f0f8",
   "metadata": {},
   "outputs": [],
   "source": []
  }
 ],
 "metadata": {
  "kernelspec": {
   "display_name": "Python 3 (ipykernel)",
   "language": "python",
   "name": "python3"
  },
  "language_info": {
   "codemirror_mode": {
    "name": "ipython",
    "version": 3
   },
   "file_extension": ".py",
   "mimetype": "text/x-python",
   "name": "python",
   "nbconvert_exporter": "python",
   "pygments_lexer": "ipython3",
   "version": "3.11.5"
  }
 },
 "nbformat": 4,
 "nbformat_minor": 5
}
